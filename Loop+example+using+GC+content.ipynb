{
 "cells": [
  {
   "cell_type": "markdown",
   "metadata": {},
   "source": [
    "## Loop Example using GC content"
   ]
  },
  {
   "cell_type": "code",
   "execution_count": 23,
   "metadata": {},
   "outputs": [
    {
     "data": {
      "text/plain": [
       "60.0"
      ]
     },
     "execution_count": 23,
     "metadata": {},
     "output_type": "execute_result"
    }
   ],
   "source": [
    "dna_string = \"GTTTGGGGCCGGCCCAGGCCTAGGGTGTGGAGGAGCCTTGCCATCGGGCTTCCTGTCTCTCTTCATTTAA\"\n",
    "dna_list = list(dna_string)\n",
    "GC_count = dna_list.count(\"G\") + dna_list.count(\"C\")\n",
    "def GC_content(sequence):\n",
    "     GC_count = sequence.count(\"G\") + sequence.count(\"C\")\n",
    "     GC_fraction = float(GC_count) / len(sequence)\n",
    "     return 100 * GC_fraction\n",
    "\n",
    "GC_content(dna_list)"
   ]
  },
  {
   "cell_type": "code",
   "execution_count": 24,
   "metadata": {
    "scrolled": true
   },
   "outputs": [
    {
     "name": "stdout",
     "output_type": "stream",
     "text": [
      "70.0\n",
      "90.0\n",
      "60.0\n",
      "60.0\n",
      "70.0\n"
     ]
    }
   ],
   "source": [
    "print(GC_content(dna_list[:10]))\n",
    "print(GC_content(dna_list[10:20]))\n",
    "print(GC_content(dna_list[20:30]))\n",
    "print(GC_content(dna_list[30:40]))\n",
    "print(GC_content(dna_list[40:50]))"
   ]
  },
  {
   "cell_type": "code",
   "execution_count": 25,
   "metadata": {},
   "outputs": [
    {
     "data": {
      "text/plain": [
       "[0, 10, 20, 30, 40]"
      ]
     },
     "execution_count": 25,
     "metadata": {},
     "output_type": "execute_result"
    }
   ],
   "source": [
    "range(0, 50, 10)\n",
    "[0, 10, 20, 30, 40]"
   ]
  },
  {
   "cell_type": "code",
   "execution_count": 26,
   "metadata": {},
   "outputs": [
    {
     "name": "stdout",
     "output_type": "stream",
     "text": [
      "70.0\n"
     ]
    }
   ],
   "source": [
    "#create loop for calculating local GC content\n",
    "for start in range(0, 50, 10):\n",
    "    end = start + 10\n",
    "print(GC_content(dna_list[start:end]))\n"
   ]
  }
 ],
 "metadata": {
  "kernelspec": {
   "display_name": "Python 3",
   "language": "python",
   "name": "python3"
  },
  "language_info": {
   "codemirror_mode": {
    "name": "ipython",
    "version": 3
   },
   "file_extension": ".py",
   "mimetype": "text/x-python",
   "name": "python",
   "nbconvert_exporter": "python",
   "pygments_lexer": "ipython3",
   "version": "3.6.1"
  }
 },
 "nbformat": 4,
 "nbformat_minor": 2
}
